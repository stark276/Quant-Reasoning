{
 "cells": [
  {
   "cell_type": "code",
   "execution_count": 3,
   "metadata": {},
   "outputs": [
    {
     "name": "stdout",
     "output_type": "stream",
     "text": [
      "107\n"
     ]
    }
   ],
   "source": [
    "import numpy as np\n",
    "import pandas as pd\n",
    "import matplotlib.pyplot as plt\n",
    "Less_than_high_school = np.array([69, 36, 2])\n",
    "High_School = np.array([112, 98, 14])\n",
    "Some_College = np.array([102, 193, 143])\n",
    "College = np.array([13, 173, 245])\n",
    "\n",
    "total_less_highschool = np.sum(Less_than_high_school)\n",
    "total_High_School = np.sum(High_School)\n",
    "total_Some_College = np.sum(Some_College)\n",
    "total_College = np.sum(College)\n",
    "\n",
    "print(total_less_highschool)"
   ]
  },
  {
   "cell_type": "code",
   "execution_count": null,
   "metadata": {},
   "outputs": [],
   "source": []
  }
 ],
 "metadata": {
  "kernelspec": {
   "display_name": "Python 3",
   "language": "python",
   "name": "python3"
  },
  "language_info": {
   "codemirror_mode": {
    "name": "ipython",
    "version": 3
   },
   "file_extension": ".py",
   "mimetype": "text/x-python",
   "name": "python",
   "nbconvert_exporter": "python",
   "pygments_lexer": "ipython3",
   "version": "3.7.4"
  }
 },
 "nbformat": 4,
 "nbformat_minor": 4
}
