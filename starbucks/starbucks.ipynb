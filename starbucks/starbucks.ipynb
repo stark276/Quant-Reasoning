{
 "cells": [
  {
   "cell_type": "code",
   "execution_count": null,
   "metadata": {},
   "outputs": [],
   "source": [
    "import csv #the csv library\n",
    "import numpy as np\n",
    "import pandas as pd\n",
    "import matplotlib.pyplot as plt\n",
    "with open('starbucks_drinkMenu_expanded.csv') as csvfile: #open the file\n",
    "    #creates a csv reader object which stores the lines of the files in lists and lets us iterate over them\n",
    "    drinksreader = csv.reader(csvfile) \n",
    "    headers = next(drinksreader, None) #skip over the headers\n",
    "    for row in drinksreader:\n",
    "        print(row)#take a look at what is being printed out\n",
    "        "
   ]
  }
 ],
 "metadata": {
  "kernelspec": {
   "display_name": "Python 3",
   "language": "python",
   "name": "python3"
  },
  "language_info": {
   "codemirror_mode": {
    "name": "ipython",
    "version": 3
   },
   "file_extension": ".py",
   "mimetype": "text/x-python",
   "name": "python",
   "nbconvert_exporter": "python",
   "pygments_lexer": "ipython3",
   "version": "3.7.4"
  }
 },
 "nbformat": 4,
 "nbformat_minor": 4
}
