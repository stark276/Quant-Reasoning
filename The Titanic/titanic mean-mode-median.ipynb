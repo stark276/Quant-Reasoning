{
 "cells": [
  {
   "cell_type": "code",
   "execution_count": 32,
   "metadata": {},
   "outputs": [
    {
     "name": "stdout",
     "output_type": "stream",
     "text": [
      "0.0764\n"
     ]
    }
   ],
   "source": [
    "import numpy as np\n",
    "import pandas as pd\n",
    "import matplotlib.pyplot as plt\n",
    "from numpy import nanmedian, NaN\n",
    "from scipy.stats import mode\n",
    "\n",
    "df = pd.read_csv('titanic.csv')\n",
    "# df.to_numpy()\n",
    "# df.isnull().sum()\n",
    "# df.shape\n",
    "# df.dtypes\n",
    "# print(\"mean = \", np.mean(df.Age))\n",
    "# np.median(df.Age)\n",
    "# print(\"median = \", nanmedian(df.Age))\n",
    "# print(\"mode = \", mode(df.Age))\n",
    "# df.hist(column=\"Fare\")\n",
    "\n",
    "#df.mean('Age')\n",
    "# df.median('Age')\n",
    "# df.mode('Age')\n",
    "\n"
   ]
  },
  {
   "cell_type": "code",
   "execution_count": 33,
   "metadata": {},
   "outputs": [
    {
     "name": "stdout",
     "output_type": "stream",
     "text": [
      "Variance: 1.489795918367347\n",
      "Mean: 7.285714285714286\n",
      "Min: 4\n",
      "Max: 9\n",
      "Range: 5\n",
      "Variance2: 458729763.47107434\n",
      "Mean: 242.27272727272728\n",
      "Min: -50349\n",
      "Max: 50023\n",
      "Range: 100372\n"
     ]
    }
   ],
   "source": [
    "import numpy as np\n",
    "import pandas as pd\n",
    "import matplotlib.pyplot as plt\n",
    "from numpy import nanmedian, NaN\n",
    "from scipy.stats import mode\n",
    "\n",
    "variance_1 = [7,8,7,8,9,6,7,7,7,8,9,8,7,4]\n",
    "\n",
    "print(\"Variance:\", np.var(variance_1))\n",
    "print(\"Mean:\", np.mean(variance_1))\n",
    "print(\"Min:\", np.min(variance_1))\n",
    "print(\"Max:\", np.max(variance_1))\n",
    "print(\"Range:\", np.max(variance_1) - np.min(variance_1))\n",
    "\n",
    "variance_2 = [102,2,50023,30,3040,50,20,1,50,-304,-50349]\n",
    "\n",
    "print(\"Variance2:\",np.var(variance_2))\n",
    "print(\"Mean:\", np.mean(variance_2))\n",
    "print(\"Min:\", np.min(variance_2))\n",
    "print(\"Max:\", np.max(variance_2))\n",
    "print(\"Range:\", np.max(variance_2) - np.min(variance_2))\n",
    "\n",
    "\n",
    "        \n",
    "        \n",
    "\n"
   ]
  },
  {
   "cell_type": "code",
   "execution_count": 51,
   "metadata": {},
   "outputs": [
    {
     "name": "stdout",
     "output_type": "stream",
     "text": [
      "Standard Deviation: 1.2205719636167902\n",
      "Standard Deviation: 1.2205719636167902\n",
      "Standard Deviation: 21417.97757658445\n",
      "Standard Deviation: 21417.97757658445\n"
     ]
    }
   ],
   "source": [
    "import numpy as np\n",
    "import math\n",
    "\n",
    "low_variance = [7,8,7,8,9,6,7,7,7,8,9,8,7,4]\n",
    "high_variance = [102,2,50023,30,3040,50,20,1,50,-304,-50349]\n",
    "\n",
    "def standard_deviation(dataset):\n",
    "    mean = np.mean(dataset)\n",
    "    net = 0\n",
    "    for x in dataset:\n",
    "        net += (x - mean)**2\n",
    "    return (math.sqrt(net/len(dataset)))\n",
    "    \n",
    "    \n",
    "print(\"Standard Deviation:\", standard_deviation(low_variance))\n",
    "print(\"Standard Deviation:\", np.std(low_variance))\n",
    "\n",
    "print(\"Standard Deviation:\", standard_deviation(high_variance))\n",
    "print(\"Standard Deviation:\", np.std(high_variance))"
   ]
  },
  {
   "cell_type": "code",
   "execution_count": 63,
   "metadata": {},
   "outputs": [
    {
     "data": {
      "text/html": [
       "<div>\n",
       "<style scoped>\n",
       "    .dataframe tbody tr th:only-of-type {\n",
       "        vertical-align: middle;\n",
       "    }\n",
       "\n",
       "    .dataframe tbody tr th {\n",
       "        vertical-align: top;\n",
       "    }\n",
       "\n",
       "    .dataframe thead th {\n",
       "        text-align: right;\n",
       "    }\n",
       "</style>\n",
       "<table border=\"1\" class=\"dataframe\">\n",
       "  <thead>\n",
       "    <tr style=\"text-align: right;\">\n",
       "      <th></th>\n",
       "      <th>PassengerId</th>\n",
       "      <th>Survived</th>\n",
       "      <th>Pclass</th>\n",
       "      <th>Age</th>\n",
       "      <th>SibSp</th>\n",
       "      <th>Parch</th>\n",
       "      <th>Fare</th>\n",
       "    </tr>\n",
       "  </thead>\n",
       "  <tbody>\n",
       "    <tr>\n",
       "      <th>count</th>\n",
       "      <td>891.000000</td>\n",
       "      <td>891.000000</td>\n",
       "      <td>891.000000</td>\n",
       "      <td>714.000000</td>\n",
       "      <td>891.000000</td>\n",
       "      <td>891.000000</td>\n",
       "      <td>891.000000</td>\n",
       "    </tr>\n",
       "    <tr>\n",
       "      <th>mean</th>\n",
       "      <td>446.000000</td>\n",
       "      <td>0.383838</td>\n",
       "      <td>2.308642</td>\n",
       "      <td>29.699118</td>\n",
       "      <td>0.523008</td>\n",
       "      <td>0.381594</td>\n",
       "      <td>32.204208</td>\n",
       "    </tr>\n",
       "    <tr>\n",
       "      <th>std</th>\n",
       "      <td>257.353842</td>\n",
       "      <td>0.486592</td>\n",
       "      <td>0.836071</td>\n",
       "      <td>14.526497</td>\n",
       "      <td>1.102743</td>\n",
       "      <td>0.806057</td>\n",
       "      <td>49.693429</td>\n",
       "    </tr>\n",
       "    <tr>\n",
       "      <th>min</th>\n",
       "      <td>1.000000</td>\n",
       "      <td>0.000000</td>\n",
       "      <td>1.000000</td>\n",
       "      <td>0.420000</td>\n",
       "      <td>0.000000</td>\n",
       "      <td>0.000000</td>\n",
       "      <td>0.000000</td>\n",
       "    </tr>\n",
       "    <tr>\n",
       "      <th>25%</th>\n",
       "      <td>223.500000</td>\n",
       "      <td>0.000000</td>\n",
       "      <td>2.000000</td>\n",
       "      <td>20.125000</td>\n",
       "      <td>0.000000</td>\n",
       "      <td>0.000000</td>\n",
       "      <td>7.910400</td>\n",
       "    </tr>\n",
       "    <tr>\n",
       "      <th>50%</th>\n",
       "      <td>446.000000</td>\n",
       "      <td>0.000000</td>\n",
       "      <td>3.000000</td>\n",
       "      <td>28.000000</td>\n",
       "      <td>0.000000</td>\n",
       "      <td>0.000000</td>\n",
       "      <td>14.454200</td>\n",
       "    </tr>\n",
       "    <tr>\n",
       "      <th>75%</th>\n",
       "      <td>668.500000</td>\n",
       "      <td>1.000000</td>\n",
       "      <td>3.000000</td>\n",
       "      <td>38.000000</td>\n",
       "      <td>1.000000</td>\n",
       "      <td>0.000000</td>\n",
       "      <td>31.000000</td>\n",
       "    </tr>\n",
       "    <tr>\n",
       "      <th>max</th>\n",
       "      <td>891.000000</td>\n",
       "      <td>1.000000</td>\n",
       "      <td>3.000000</td>\n",
       "      <td>80.000000</td>\n",
       "      <td>8.000000</td>\n",
       "      <td>6.000000</td>\n",
       "      <td>512.329200</td>\n",
       "    </tr>\n",
       "  </tbody>\n",
       "</table>\n",
       "</div>"
      ],
      "text/plain": [
       "       PassengerId    Survived      Pclass         Age       SibSp  \\\n",
       "count   891.000000  891.000000  891.000000  714.000000  891.000000   \n",
       "mean    446.000000    0.383838    2.308642   29.699118    0.523008   \n",
       "std     257.353842    0.486592    0.836071   14.526497    1.102743   \n",
       "min       1.000000    0.000000    1.000000    0.420000    0.000000   \n",
       "25%     223.500000    0.000000    2.000000   20.125000    0.000000   \n",
       "50%     446.000000    0.000000    3.000000   28.000000    0.000000   \n",
       "75%     668.500000    1.000000    3.000000   38.000000    1.000000   \n",
       "max     891.000000    1.000000    3.000000   80.000000    8.000000   \n",
       "\n",
       "            Parch        Fare  \n",
       "count  891.000000  891.000000  \n",
       "mean     0.381594   32.204208  \n",
       "std      0.806057   49.693429  \n",
       "min      0.000000    0.000000  \n",
       "25%      0.000000    7.910400  \n",
       "50%      0.000000   14.454200  \n",
       "75%      0.000000   31.000000  \n",
       "max      6.000000  512.329200  "
      ]
     },
     "execution_count": 63,
     "metadata": {},
     "output_type": "execute_result"
    },
    {
     "data": {
      "image/png": "[encoded data removed]",
      "text/plain": [
       "<Figure size 432x288 with 1 Axes>"
      ]
     },
     "metadata": {
      "needs_background": "light"
     },
     "output_type": "display_data"
    },
    {
     "data": {
      "image/png": "[encoded data removed]",
      "text/plain": [
       "<Figure size 432x288 with 1 Axes>"
      ]
     },
     "metadata": {
      "needs_background": "light"
     },
     "output_type": "display_data"
    }
   ],
   "source": [
    "import numpy as np\n",
    "import pandas as pd\n",
    "import matplotlib.pyplot as plt\n",
    "\n",
    "df = pd.read_csv('titanic.csv')\n",
    "\n",
    "df.var()\n",
    "\n",
    "df.hist(\"Age\")\n",
    "df.hist(\"Fare\")\n",
    "df.describe()"
   ]
  },
  {
   "cell_type": "code",
   "execution_count": 101,
   "metadata": {},
   "outputs": [
    {
     "name": "stdout",
     "output_type": "stream",
     "text": [
      "mean: 29.69911764705882\n",
      "14.526497332334042\n"
     ]
    },
    {
     "data": {
      "image/png": "[encoded data removed]",
      "text/plain": [
       "<Figure size 432x288 with 1 Axes>"
      ]
     },
     "metadata": {
      "needs_background": "light"
     },
     "output_type": "display_data"
    }
   ],
   "source": [
    "import numpy as np\n",
    "import pandas as pd\n",
    "import matplotlib.pyplot as plt\n",
    "\n",
    "df = pd.read_csv('titanic.csv')\n",
    "\n",
    "plt.hist(df.Age)\n",
    "plt.axvline(df.Age.mean(), color='k', linestyle='dashed', linewidth=1)\n",
    "df.Age.mean()\n",
    "plt.title('Ages of Passengers on Titanic')\n",
    "plt.ylabel('Count')\n",
    "plt.xlabel('Age (in Years)')\n",
    "# Age\n",
    "plt.axvline(df.Age.mean()+df.Age.std(), color='k', linestyle='dashed', linewidth=1)\n",
    "plt.axvline(df.Age.mean()-df.Age.std(), color='k', linestyle='dashed', linewidth=1)\n",
    "print(\"mean:\",df.Age.mean())\n",
    "print(df.Age.std())\n",
    "\n"
   ]
  },
  {
   "cell_type": "code",
   "execution_count": 104,
   "metadata": {},
   "outputs": [
    {
     "data": {
      "text/plain": [
       "<matplotlib.lines.Line2D at 0x7fe0a213bc90>"
      ]
     },
     "execution_count": 104,
     "metadata": {},
     "output_type": "execute_result"
    },
    {
     "data": {
      "image/png": "[encoded data removed]",
      "text/plain": [
       "<Figure size 432x288 with 1 Axes>"
      ]
     },
     "metadata": {
      "needs_background": "light"
     },
     "output_type": "display_data"
    }
   ],
   "source": [
    "import numpy as np\n",
    "import pandas as pd\n",
    "import matplotlib.pyplot as plt\n",
    "\n",
    "df = pd.read_csv('titanic.csv')\n",
    "plt.hist(df.Fare)\n",
    "plt.axvline(df.Fare.mean(), color='k', linestyle='dashed', linewidth=1)\n",
    "plt.title('Fares of Passengers on Titanic')\n",
    "plt.ylabel('Count')\n",
    "plt.xlabel('Fare (in Dollars)')\n",
    "# Fare\n",
    "plt.axvline(df.Fare.mean()+df.Fare.std(), color='k', linestyle='dashed', linewidth=1)\n",
    "plt.axvline(df.Fare.mean()-df.Fare.std(), color='k', linestyle='dashed', linewidth=1)"
   ]
  },
  {
   "cell_type": "code",
   "execution_count": null,
   "metadata": {},
   "outputs": [],
   "source": []
  }
 ],
 "metadata": {
  "kernelspec": {
   "display_name": "Python 3",
   "language": "python",
   "name": "python3"
  },
  "language_info": {
   "codemirror_mode": {
    "name": "ipython",
    "version": 3
   },
   "file_extension": ".py",
   "mimetype": "text/x-python",
   "name": "python",
   "nbconvert_exporter": "python",
   "pygments_lexer": "ipython3",
   "version": "3.7.4"
  }
 },
 "nbformat": 4,
 "nbformat_minor": 4
}
