{
 "cells": [
  {
   "cell_type": "code",
   "execution_count": 19,
   "metadata": {},
   "outputs": [
    {
     "name": "stdout",
     "output_type": "stream",
     "text": [
      "0.24666666666666667\n"
     ]
    }
   ],
   "source": [
    "import numpy as np\n",
    "import pandas as pd\n",
    "import matplotlib.pyplot as plt\n",
    "\n",
    "Less_than_high_school = np.array([69, 36, 2])\n",
    "High_School = np.array([112, 98, 14])\n",
    "Some_College = np.array([102, 193, 143])\n",
    "College = np.array([13, 173, 245])\n",
    "\n",
    "total_less_highschool = np.sum(Less_than_high_school)\n",
    "total_High_School = np.sum(High_School)\n",
    "total_Some_College = np.sum(Some_College)\n",
    "total_College = np.sum(College)\n",
    "\n",
    "total = total_less_highschool + total_High_School + total_Some_College + total_College\n",
    "\n",
    "earns_under_20k = Less_than_high_school[0] + High_School[0] + Some_College[0] + College[0]\n",
    "earns_20_30 = Less_than_high_school[1] + High_School[1] + Some_College[1] + College[1]\n",
    "earns_over_30 = Less_than_high_school[2] + High_School[2] + Some_College[2] + College[2]\n",
    "\n",
    "over_30k = [2, 14, 143, 245]\n",
    "earns_2030 = [36, 98, 193, 173]\n",
    "under_20 = [69,112,102, 13]\n",
    "\n",
    "\n",
    "# print(total)\n",
    "# print(earns_under_20k)\n",
    "p_earns_under_20k = earns_under_20k/total #P(employee earns under $20,000)\n",
    "print(p_earns_under_20k)\n",
    "\n",
    "\n",
    "\n"
   ]
  },
  {
   "cell_type": "code",
   "execution_count": 14,
   "metadata": {},
   "outputs": [
    {
     "name": "stdout",
     "output_type": "stream",
     "text": [
      "0.08916666666666667\n"
     ]
    }
   ],
   "source": [
    "P_Less_than_high_school = total_less_highschool/total #P(employee has less than a high school education)\n",
    "print(P_Less_than_high_school)"
   ]
  },
  {
   "cell_type": "code",
   "execution_count": 21,
   "metadata": {},
   "outputs": [
    {
     "name": "stdout",
     "output_type": "stream",
     "text": [
      "0.0016666666666666668\n"
     ]
    }
   ],
   "source": [
    "p_earns_over_30_less_high = 2/total #P(employee earns over $30,000 and has less than a high school education)\n",
    "print(p_earns_over_30_less_high)"
   ]
  },
  {
   "cell_type": "code",
   "execution_count": 22,
   "metadata": {},
   "outputs": [
    {
     "name": "stdout",
     "output_type": "stream",
     "text": [
      "0.010833333333333334\n"
     ]
    }
   ],
   "source": [
    "p_under_20_College = 13/total #d) P(employee earns under $20,000 and has a college degree)\n",
    "print(p_under_20_College)"
   ]
  },
  {
   "cell_type": "code",
   "execution_count": 26,
   "metadata": {},
   "outputs": [
    {
     "name": "stdout",
     "output_type": "stream",
     "text": [
      "0.0625\n"
     ]
    }
   ],
   "source": [
    "p_over_30k_High_School = 14/total_High_School #P(employee earns over $30,000 | has only high school education)\n",
    "print(p_over_30k_High_School)"
   ]
  },
  {
   "cell_type": "code",
   "execution_count": 25,
   "metadata": {},
   "outputs": [
    {
     "name": "stdout",
     "output_type": "stream",
     "text": [
      "0.0049504950495049506\n"
     ]
    }
   ],
   "source": [
    "fp_earns_over_30_less_high = 2/earns_over_30 #P(employee has less than high school education | earns over $30,000)\n",
    "print(fp_earns_over_30_less_high)"
   ]
  },
  {
   "cell_type": "code",
   "execution_count": 33,
   "metadata": {},
   "outputs": [
    {
     "name": "stdout",
     "output_type": "stream",
     "text": [
      "0.6066666666666667\n"
     ]
    }
   ],
   "source": [
    "#2. Use the table to find each probability for a randomly chosen student.\n",
    "\n",
    "\n",
    "male = np.array([40,16,35])\n",
    "female = np.array([15, 24, 20])\n",
    "\n",
    "\n",
    "male_total = np.sum(male)\n",
    "female_total = np.sum(female)\n",
    "\n",
    "total = np.sum(male) + np.sum(female)\n",
    "\n",
    "P_male = male_total/total\n",
    "print(P_male)"
   ]
  },
  {
   "cell_type": "code",
   "execution_count": 34,
   "metadata": {},
   "outputs": [
    {
     "name": "stdout",
     "output_type": "stream",
     "text": [
      "0.74\n"
     ]
    }
   ],
   "source": [
    "#P(male or majors in Chemistry)\n",
    "p_male_majors_hemistry = (male_total+20)/total\n",
    "print(p_male_majors_hemistry)"
   ]
  },
  {
   "cell_type": "code",
   "execution_count": 35,
   "metadata": {},
   "outputs": [
    {
     "name": "stdout",
     "output_type": "stream",
     "text": [
      "0.17582417582417584\n"
     ]
    }
   ],
   "source": [
    "#c) P(majors in Physics | male)\n",
    "phisics_n_male = 16/male_total\n",
    "print(phisics_n_male)"
   ]
  },
  {
   "cell_type": "code",
   "execution_count": 36,
   "metadata": {},
   "outputs": [
    {
     "name": "stdout",
     "output_type": "stream",
     "text": [
      "1.0\n"
     ]
    }
   ],
   "source": [
    "#5, 6, 7, 8, 9, 10, 11, 12, 13, 14\n",
    "\n",
    "array = np.array([5, 6, 7, 8, 9, 10, 11, 12, 13, 14])\n",
    "total = np.sum(array)\n",
    "\n",
    "\n",
    "\n",
    "#P(integer) \n",
    "P_integer = total/total\n",
    "print(P_integer)"
   ]
  },
  {
   "cell_type": "code",
   "execution_count": 37,
   "metadata": {},
   "outputs": [
    {
     "name": "stdout",
     "output_type": "stream",
     "text": [
      "0.625\n"
     ]
    }
   ],
   "source": [
    "#P(less than 10 | less than 13)\n",
    "less_10_n_13 = 5/8\n",
    "print(less_10_n_13)"
   ]
  },
  {
   "cell_type": "code",
   "execution_count": null,
   "metadata": {},
   "outputs": [],
   "source": []
  }
 ],
 "metadata": {
  "kernelspec": {
   "display_name": "Python 3",
   "language": "python",
   "name": "python3"
  },
  "language_info": {
   "codemirror_mode": {
    "name": "ipython",
    "version": 3
   },
   "file_extension": ".py",
   "mimetype": "text/x-python",
   "name": "python",
   "nbconvert_exporter": "python",
   "pygments_lexer": "ipython3",
   "version": "3.7.4"
  }
 },
 "nbformat": 4,
 "nbformat_minor": 4
}
